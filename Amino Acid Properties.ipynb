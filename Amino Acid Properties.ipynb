{
 "metadata": {
  "name": "",
  "signature": "sha256:559e3397031cbef993611ac185fa1cbec16e72507bc148546a2343ff5d59ee5c"
 },
 "nbformat": 3,
 "nbformat_minor": 0,
 "worksheets": [
  {
   "cells": [
    {
     "cell_type": "code",
     "collapsed": false,
     "input": [
      "%matplotlib inline"
     ],
     "language": "python",
     "metadata": {},
     "outputs": [],
     "prompt_number": 1
    },
    {
     "cell_type": "code",
     "collapsed": false,
     "input": [
      "from Bio import SeqIO\n",
      "from collections import defaultdict\n",
      "import matplotlib.pyplot as plt"
     ],
     "language": "python",
     "metadata": {},
     "outputs": [],
     "prompt_number": 1
    },
    {
     "cell_type": "code",
     "collapsed": false,
     "input": [
      "aa_groups = defaultdict(int)\n",
      "aa_dict = {\n",
      "        'A': 'hydrophobic',\n",
      "        'R': 'positively charged',\n",
      "        'N': 'uncharged polar',\n",
      "        'D': 'negatively charged',\n",
      "        'C': 'special',\n",
      "        'Q': 'uncharged polar',\n",
      "        'E': 'negatively charged',\n",
      "        'G': 'special',\n",
      "        'H': 'positively charged',\n",
      "        'I': 'hydrophobic',\n",
      "        'L': 'hydrophobic',\n",
      "        'K': 'positively charged',\n",
      "        'M': 'hydrophobic',\n",
      "        'F': 'hydrophobic',\n",
      "        'P': 'special',\n",
      "        'S': 'uncharged polar',\n",
      "        'T': 'uncharged polar',\n",
      "        'W': 'hydrophobic',\n",
      "        'Y': 'hydrophobic',\n",
      "        'V': 'hydrophobic',\n",
      "}"
     ],
     "language": "python",
     "metadata": {},
     "outputs": [],
     "prompt_number": 2
    },
    {
     "cell_type": "code",
     "collapsed": false,
     "input": [
      "total_aa = 0\n",
      "for rec in SeqIO.parse('Monomer.fasta', 'fasta'):\n",
      "    for a in str(rec.seq):\n",
      "        if a in aa_dict:\n",
      "            total_aa += 1\n",
      "            aa_groups[aa_dict[a.upper()]] += 1"
     ],
     "language": "python",
     "metadata": {},
     "outputs": [],
     "prompt_number": 3
    },
    {
     "cell_type": "code",
     "collapsed": false,
     "input": [
      "for a, c in aa_groups.iteritems():\n",
      "    print a, '%.2f' % (float(c)/total_aa*100.0)"
     ],
     "language": "python",
     "metadata": {},
     "outputs": [
      {
       "output_type": "stream",
       "stream": "stdout",
       "text": [
        "uncharged polar 17.80\n",
        "special 15.61\n",
        "positively charged 16.12\n",
        "hydrophobic 36.41\n",
        "negatively charged 14.07\n"
       ]
      }
     ],
     "prompt_number": 4
    },
    {
     "cell_type": "code",
     "collapsed": false,
     "input": [
      "groups = sorted(aa_groups.keys())\n",
      "percnt = [aa_groups[g]/float(total_aa) for g in groups]"
     ],
     "language": "python",
     "metadata": {},
     "outputs": [],
     "prompt_number": 5
    },
    {
     "cell_type": "code",
     "collapsed": false,
     "input": [
      "percnt"
     ],
     "language": "python",
     "metadata": {},
     "outputs": [
      {
       "metadata": {},
       "output_type": "pyout",
       "prompt_number": 6,
       "text": [
        "[0.36407494437397325,\n",
        " 0.14065586724614776,\n",
        " 0.16120110628210194,\n",
        " 0.1560647965231134,\n",
        " 0.17800328557466363]"
       ]
      }
     ],
     "prompt_number": 6
    },
    {
     "cell_type": "code",
     "collapsed": false,
     "input": [
      "aa_groups = defaultdict(int)\n",
      "total_aa = 0\n",
      "for rec in SeqIO.parse('Oligomer.fasta', 'fasta'):\n",
      "    for a in str(rec.seq):\n",
      "        if a in aa_dict:\n",
      "            total_aa += 1\n",
      "            aa_groups[aa_dict[a.upper()]] += 1\n",
      "Oligomer_percnt = [aa_groups[g]/float(total_aa) for g in groups]\n",
      "Oligomer_percnt"
     ],
     "language": "python",
     "metadata": {},
     "outputs": [
      {
       "metadata": {},
       "output_type": "pyout",
       "prompt_number": 7,
       "text": [
        "[0.3696985862896772,\n",
        " 0.12394416288788121,\n",
        " 0.15606383924602116,\n",
        " 0.16517738063483595,\n",
        " 0.18511603094158444]"
       ]
      }
     ],
     "prompt_number": 7
    },
    {
     "cell_type": "code",
     "collapsed": false,
     "input": [],
     "language": "python",
     "metadata": {},
     "outputs": []
    }
   ],
   "metadata": {}
  }
 ]
}